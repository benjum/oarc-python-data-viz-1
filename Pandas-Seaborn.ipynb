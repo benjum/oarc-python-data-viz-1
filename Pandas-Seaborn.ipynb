{
 "cells": [
  {
   "cell_type": "markdown",
   "id": "distinct-graham",
   "metadata": {},
   "source": [
    "# Pandas & Seaborn"
   ]
  },
  {
   "cell_type": "markdown",
   "id": "frequent-handy",
   "metadata": {},
   "source": [
    "<img src='helpers/pandas.png' width=400>\n",
    "\n",
    "Pandas is Python software library for manipulating and analyzing data.  \n",
    "\n",
    "It may be one of the most widely used tools for data munging\n",
    "* present data in nice formats\n",
    "* multiple convenient methods for filtering data\n",
    "* work with a variety of data formats (CSV, Excel, …)\n",
    "* convenient functions for quickly plotting data"
   ]
  },
  {
   "cell_type": "markdown",
   "id": "0849f4bf-90b1-4318-92d3-10bf40266b63",
   "metadata": {},
   "source": [
    "# Example Dataset: FMRI time series\n",
    "\n",
    "This example FMRI dataset is taken from https://github.com/mwaskom/Waskom_CerebCortex_2017 and is one of Seaborn's built-in toy datasets.\n",
    "\n",
    "If you are curious about further analysis, see the following article related to the data:\n",
    "* Michael L. Waskom, Michael C. Frank, Anthony D. Wagner. \"Adaptive Engagement of Cognitive Control in Context-Dependent Decision Making.\" Cerebral Cortex, Volume 27, Issue 2, February 2017, Pages 1270–1284, https://doi.org/10.1093/cercor/bhv333"
   ]
  },
  {
   "cell_type": "code",
   "execution_count": null,
   "id": "68c49b02-98c4-4736-b1a0-68bd307c3a33",
   "metadata": {},
   "outputs": [],
   "source": [
    "import matplotlib.pyplot as plt\n",
    "import pandas as pd\n",
    "import seaborn as sns"
   ]
  },
  {
   "cell_type": "code",
   "execution_count": null,
   "id": "6e43e072-f738-4939-957b-ddc537a242cd",
   "metadata": {},
   "outputs": [],
   "source": [
    "fmri = sns.load_dataset(\"fmri\")"
   ]
  },
  {
   "cell_type": "code",
   "execution_count": null,
   "id": "1f2da009-e2ca-4c15-aada-56e3226ca7e0",
   "metadata": {},
   "outputs": [],
   "source": [
    "fmri"
   ]
  },
  {
   "cell_type": "markdown",
   "id": "5cfb938d-d241-483e-ab8f-68513531c7a6",
   "metadata": {},
   "source": [
    "We can use matplotlib to make any of the plots that are in this notebook.  (Remember that pandas and seaborn plotting routines are based on matplotlib)."
   ]
  },
  {
   "cell_type": "code",
   "execution_count": null,
   "id": "2ab0cf65-e9a9-4ff2-9130-ea3a598b7747",
   "metadata": {},
   "outputs": [],
   "source": [
    "plt.plot(fmri['timepoint'],\n",
    "         fmri['signal'],\n",
    "         'ko')"
   ]
  },
  {
   "cell_type": "markdown",
   "id": "91811b2a-b013-4b03-8d1f-e0fc59ae4c2f",
   "metadata": {},
   "source": [
    "Of course, there's more structure to the data than what's visible here.  We have different temporal evolution depending on the values in the 'subject', 'event', and 'region' columns."
   ]
  },
  {
   "cell_type": "code",
   "execution_count": null,
   "id": "fad03fd4-f598-49b0-b7eb-645ad95ed100",
   "metadata": {},
   "outputs": [],
   "source": [
    "fmri['subject'].unique()"
   ]
  },
  {
   "cell_type": "code",
   "execution_count": null,
   "id": "30dc5000-43c3-41b5-bdd6-c30091305fda",
   "metadata": {},
   "outputs": [],
   "source": [
    "fmri['event'].unique()"
   ]
  },
  {
   "cell_type": "code",
   "execution_count": null,
   "id": "329abe40-ee2a-4c62-b75b-18801226151b",
   "metadata": {},
   "outputs": [],
   "source": [
    "fmri['region'].unique()"
   ]
  },
  {
   "cell_type": "code",
   "execution_count": null,
   "id": "1ccbd3af-8870-4fe4-a5e3-be5b8d23098f",
   "metadata": {},
   "outputs": [],
   "source": [
    "fmri.loc[(fmri['subject']=='s0') & \n",
    "         (fmri['event']=='stim') & \n",
    "         (fmri['region']=='parietal')].sort_values(by='timepoint')"
   ]
  },
  {
   "cell_type": "code",
   "execution_count": null,
   "id": "b93bebc1-1a09-47af-814a-611312f881d7",
   "metadata": {},
   "outputs": [],
   "source": [
    "fmri_s0 = fmri.loc[(fmri['subject']=='s0') & \n",
    "                   (fmri['event']=='stim') & \n",
    "                   (fmri['region']=='parietal')].sort_values(by='timepoint').copy()\n",
    "fmri_s1 = fmri.loc[(fmri['subject']=='s1') & \n",
    "                   (fmri['event']=='stim') & \n",
    "                   (fmri['region']=='parietal')].sort_values(by='timepoint').copy()              "
   ]
  },
  {
   "cell_type": "code",
   "execution_count": null,
   "id": "33340391-4eb5-4bab-93b6-27517faf0fa4",
   "metadata": {},
   "outputs": [],
   "source": [
    "plt.plot(fmri_s0['timepoint'],\n",
    "         fmri_s0['signal'],\n",
    "         'k')\n",
    "plt.plot(fmri_s1['timepoint'],\n",
    "         fmri_s1['signal'],\n",
    "         'b')"
   ]
  },
  {
   "cell_type": "markdown",
   "id": "2f431faf-67a7-46ad-8491-fc5b892547e1",
   "metadata": {},
   "source": [
    "Pandas dataframes have built-in plotting methods for making visualizations which can be a bit easier to work with out-of-the-box than matplotlib."
   ]
  },
  {
   "cell_type": "code",
   "execution_count": null,
   "id": "9584d17f-bf94-4feb-be79-a27098c9c3a4",
   "metadata": {},
   "outputs": [],
   "source": [
    "fmri_s1.plot(x = 'timepoint', \n",
    "             y = 'signal')"
   ]
  },
  {
   "cell_type": "code",
   "execution_count": null,
   "id": "c101ef57-7426-4a85-a721-963e601093a2",
   "metadata": {},
   "outputs": [],
   "source": [
    "fmri_s1.plot(x = 'timepoint', \n",
    "             y = 'signal', \n",
    "             color = 'k')"
   ]
  },
  {
   "cell_type": "markdown",
   "id": "b86b6536-63dd-4d6b-ad22-fefa479c6535",
   "metadata": {},
   "source": [
    "And what if we want to plot all the data?"
   ]
  },
  {
   "cell_type": "code",
   "execution_count": null,
   "id": "54a79f01-6970-4374-a611-9f63e394aaba",
   "metadata": {},
   "outputs": [],
   "source": [
    "# not quite this easy!\n",
    "fmri.plot(x='timepoint',\n",
    "          y='signal')"
   ]
  },
  {
   "cell_type": "markdown",
   "id": "44c8ffeb-95c2-47ba-9957-e1f815329611",
   "metadata": {},
   "source": [
    "What's with the zig-zags?\n",
    "\n",
    "By default, pandas will make a line plot connecting the points, and since the points are plotted out of numerical order, the connecting lines zigs back and forth in the x and y direction."
   ]
  },
  {
   "cell_type": "code",
   "execution_count": null,
   "id": "24e49141-e9e2-4aef-8ae9-07b5fbef2f1e",
   "metadata": {},
   "outputs": [],
   "source": [
    "fmri.plot(x='timepoint',\n",
    "          y='signal',\n",
    "          kind='scatter')"
   ]
  },
  {
   "cell_type": "markdown",
   "id": "6ac375c0-78c9-4161-878a-9fcbe509f909",
   "metadata": {},
   "source": [
    "The `kind` parameter makes it very easy to make a variety of different elementary plots:\n",
    "\n",
    "* `line` : line plot\n",
    "* `bar` : vertical bar plot\n",
    "* `barh` : horizontal bar plot\n",
    "* `hist` : histogram\n",
    "* `box` : boxplot\n",
    "* `kde` : kernel density estimation plot\n",
    "* `density` : same as kde\n",
    "* `area` : area plot\n",
    "* `pie` : pie plot\n",
    "* `scatter` : scatter plot\n",
    "* `hexbin` : hexbin plot"
   ]
  },
  {
   "cell_type": "code",
   "execution_count": null,
   "id": "04c94ec6-ab1e-4628-aaa2-d89f0386c32e",
   "metadata": {},
   "outputs": [],
   "source": [
    "fmri_s0.plot(x='timepoint',\n",
    "          y='signal',\n",
    "          kind='scatter')"
   ]
  },
  {
   "cell_type": "code",
   "execution_count": null,
   "id": "e2445bf7-e4c7-45a8-ad99-a16486f6845c",
   "metadata": {},
   "outputs": [],
   "source": [
    "fmri_s0.plot(x='timepoint',\n",
    "          y='signal',\n",
    "          kind='bar')"
   ]
  },
  {
   "cell_type": "code",
   "execution_count": null,
   "id": "467c1e3a-390b-497d-8959-739e80fbae3d",
   "metadata": {},
   "outputs": [],
   "source": [
    "fmri_s0.plot(x='timepoint',\n",
    "          y='signal',\n",
    "          kind='barh')"
   ]
  },
  {
   "cell_type": "markdown",
   "id": "55ccd618-b9e9-4756-bf97-cf9471d9a053",
   "metadata": {},
   "source": [
    "It can be useful to take advantage of the fact that Pandas plots can be tailored with matplotlib commands!"
   ]
  },
  {
   "cell_type": "code",
   "execution_count": null,
   "id": "534d0922-554a-44d7-9975-9531aba2b409",
   "metadata": {},
   "outputs": [],
   "source": [
    "fmri_s0.plot(x='timepoint',\n",
    "             y='signal',\n",
    "             color='k')\n",
    "fmri_s1.plot(x='timepoint',\n",
    "             y='signal',\n",
    "             color='b')"
   ]
  },
  {
   "cell_type": "code",
   "execution_count": null,
   "id": "f08aae1e-0946-4d4a-a9de-079e855a4170",
   "metadata": {},
   "outputs": [],
   "source": [
    "ax = fmri_s0.plot(x='timepoint',\n",
    "             y='signal',\n",
    "             color='k')\n",
    "fmri_s1.plot(x='timepoint',\n",
    "             y='signal',\n",
    "             color='b',\n",
    "             ax=ax)"
   ]
  },
  {
   "cell_type": "code",
   "execution_count": null,
   "id": "3ccc03a1-9d68-406c-a44f-6e80ebf9040c",
   "metadata": {},
   "outputs": [],
   "source": [
    "fig,ax = plt.subplots(1,1,figsize=(7,5))\n",
    "fmri_s0.plot(x='timepoint',\n",
    "             y='signal',\n",
    "             color='k',\n",
    "             ax=ax)\n",
    "fmri_s1.plot(x='timepoint',\n",
    "             y='signal',\n",
    "             color='b',\n",
    "             ax=ax)\n",
    "ax.legend(['s0','s1'])\n",
    "ax.set_title('Subjects s0 and s1')\n",
    "plt.show()"
   ]
  },
  {
   "cell_type": "markdown",
   "id": "90bd6e8c-fe88-4637-8374-1cd211835f44",
   "metadata": {},
   "source": [
    "# Seaborn\n",
    "\n",
    "If Matplotlib 'tries to make easy things easy and hard things possible,' Seaborn tries to make a well-defined set of hard things easy too.\n",
    "\n",
    "https://seaborn.pydata.org\n",
    "\n",
    "<img src='helpers/seaborn.png' width=700>\n",
    "          \n",
    "* Built on top of matplotlib and closely integrated with pandas data structures.\n",
    "* Used for making statistical graphics and using visualization to quickly and easily explore and understand data.\n",
    "* The style settings can also affect matplotlib plots, even if you don't make them with seaborn."
   ]
  },
  {
   "cell_type": "markdown",
   "id": "9ada511c-bb37-423f-a22f-588a50f3ab06",
   "metadata": {},
   "source": [
    "\"lineplot\" will draw a line plot with the possibility of semantic groupings. (https://seaborn.pydata.org/generated/seaborn.lineplot.html)"
   ]
  },
  {
   "cell_type": "code",
   "execution_count": null,
   "id": "608b0b64-1fc5-47a6-bb4d-8f1fe120049b",
   "metadata": {},
   "outputs": [],
   "source": [
    "sns.lineplot(data=fmri_s0,x='timepoint',y='signal')"
   ]
  },
  {
   "cell_type": "markdown",
   "id": "91a20d58-c7de-4f5e-8ca2-783c8da2436c",
   "metadata": {},
   "source": [
    "Check it out now too for all the subjects:"
   ]
  },
  {
   "cell_type": "code",
   "execution_count": null,
   "id": "7869139f-fbd0-4acc-a8c5-95e9df3a558f",
   "metadata": {},
   "outputs": [],
   "source": [
    "sns.lineplot(data=fmri,x='timepoint',y='signal')"
   ]
  },
  {
   "cell_type": "markdown",
   "id": "2340b4c4-8cd0-415e-a288-e5a9bf0cf0d8",
   "metadata": {},
   "source": [
    "What is the above showing? -> It's actually showing the mean and a 95% confidence interval."
   ]
  },
  {
   "cell_type": "code",
   "execution_count": null,
   "id": "e3c1e2a9-41ad-42a1-b60d-067b8a9bb9d0",
   "metadata": {},
   "outputs": [],
   "source": [
    "sns.lineplot(data=fmri.loc[fmri['subject']=='s0'],x='timepoint',y='signal')"
   ]
  },
  {
   "cell_type": "markdown",
   "id": "22b3948d-4d56-44f1-9e01-8236ec44de77",
   "metadata": {},
   "source": [
    "Wait... the above has mean too?\n",
    "\n",
    "Yes -> it has all the events and region info."
   ]
  },
  {
   "cell_type": "code",
   "execution_count": null,
   "id": "3584aeaa-358a-4297-8c36-31540bc9f698",
   "metadata": {},
   "outputs": [],
   "source": [
    "sns.lineplot(data=fmri_s0,x='timepoint',y='signal')"
   ]
  },
  {
   "cell_type": "markdown",
   "id": "42c9ce5e-1498-4149-974c-744bbf83a1f7",
   "metadata": {},
   "source": [
    "Seaborn does make it easy to \"split\" the visualizations up using colors (hues), columns, and rows."
   ]
  },
  {
   "cell_type": "code",
   "execution_count": null,
   "id": "0cf97017-a006-4d8a-acc0-03cdfaa048c7",
   "metadata": {},
   "outputs": [],
   "source": [
    "sns.lineplot(data=fmri, x='timepoint', y='signal', hue='subject')"
   ]
  },
  {
   "cell_type": "code",
   "execution_count": null,
   "id": "484e692e-8759-4740-a56d-a58be5438012",
   "metadata": {},
   "outputs": [],
   "source": [
    "sns.lineplot(data=fmri, x='timepoint', y='signal', hue='event')"
   ]
  },
  {
   "cell_type": "code",
   "execution_count": null,
   "id": "6c49733f-e81b-4f13-b609-cd81269751fb",
   "metadata": {},
   "outputs": [],
   "source": [
    "sns.lineplot(data=fmri, x='timepoint', y='signal', hue='event', style='region')"
   ]
  },
  {
   "cell_type": "markdown",
   "id": "76998be7-21a7-403d-840e-67055d9bfc68",
   "metadata": {},
   "source": [
    "Here again we note that the styling of a visualization, despite being useful to break data up into different pieces for comparison, does merit some thought, focus, and sometimes experimental improvisation to get into more useful forms."
   ]
  },
  {
   "cell_type": "code",
   "execution_count": null,
   "id": "331573f1-6643-4f66-a651-68d9624d531c",
   "metadata": {},
   "outputs": [],
   "source": [
    "sns.lineplot(data=fmri, x='timepoint', y='signal', style='event', hue='region')"
   ]
  },
  {
   "cell_type": "markdown",
   "id": "8a3516e8-b1ce-4106-8d17-1efe5f7f24e5",
   "metadata": {},
   "source": [
    "The above is easier for comparison since the colors are not right next to each other."
   ]
  },
  {
   "cell_type": "markdown",
   "id": "a3b8f783-9ef4-4a4a-b3fe-dd3daec93782",
   "metadata": {},
   "source": [
    "Statistical note:  by default the lineplot will show mean and 95% confidence interval.  You can also use standard error, standard deviation, and percentile interval.  See https://seaborn.pydata.org/tutorial/error_bars.html"
   ]
  },
  {
   "cell_type": "code",
   "execution_count": null,
   "id": "e782b9b1-6382-4cc4-9c18-baf425215835",
   "metadata": {},
   "outputs": [],
   "source": [
    "sns.lineplot(data=fmri, \n",
    "             x='timepoint', y='signal', \n",
    "             style='event', hue='region', \n",
    "             errorbar=None)"
   ]
  },
  {
   "cell_type": "markdown",
   "id": "bb1ab8fa-8d82-4db2-bb03-150a6b89cc7d",
   "metadata": {},
   "source": [
    "The above can be useful if you want to clear the plot of error markings and simply focus on the trend in mean."
   ]
  },
  {
   "cell_type": "code",
   "execution_count": null,
   "id": "ecf12cda-e41a-41fe-b200-7c2dd141f398",
   "metadata": {},
   "outputs": [],
   "source": [
    "sns.lineplot(data=fmri, \n",
    "             x='timepoint', y='signal', \n",
    "             style='event', hue='region', \n",
    "             errorbar=('se',1))"
   ]
  },
  {
   "cell_type": "markdown",
   "id": "e06b682a-728b-4db0-aa52-5bb56e571aa7",
   "metadata": {},
   "source": [
    "\"relplot\" is useful for drawing relational plots (like line and scatter plots), onto a FacetGrid (separating values of a given variable along columns or rows).\n",
    "\n",
    "https://seaborn.pydata.org/generated/seaborn.relplot.html"
   ]
  },
  {
   "cell_type": "code",
   "execution_count": null,
   "id": "ceeebcfe-cf0c-4286-89d0-18462f8f2ff3",
   "metadata": {},
   "outputs": [],
   "source": [
    "sns.relplot(data=fmri, \n",
    "            x='timepoint', y='signal', \n",
    "            hue='event', \n",
    "            col='region')"
   ]
  },
  {
   "cell_type": "code",
   "execution_count": null,
   "id": "195d32e5-b9ec-49ca-9464-9b73dfb61b2b",
   "metadata": {},
   "outputs": [],
   "source": [
    "# Remember that I only retained parietal as a region in fmri_s0.\n",
    "\n",
    "sns.relplot(data=fmri_s0, \n",
    "            x='timepoint', y='signal', \n",
    "            hue='event', \n",
    "            col='region')"
   ]
  },
  {
   "cell_type": "code",
   "execution_count": null,
   "id": "09be0ce2-52e7-4152-8ada-02672abf6549",
   "metadata": {},
   "outputs": [],
   "source": [
    "sns.relplot(data=fmri, \n",
    "            x='timepoint', y='signal', \n",
    "            hue='event', \n",
    "            col='region', \n",
    "            kind='line')"
   ]
  },
  {
   "cell_type": "markdown",
   "id": "49f0717a-3e06-473a-a1ec-00d67d85fa2c",
   "metadata": {},
   "source": [
    "Just like with Pandas, you can use matplotlib commands in tandem with Seaborn plotting, as long as the data structures are consistent. (Sometimes you have to make sure whether you are dealing with figure and axes objects or whether you can simply execute the pyplot methods.)"
   ]
  },
  {
   "cell_type": "code",
   "execution_count": null,
   "id": "a2ff3410-181c-422d-abab-588efa247f2c",
   "metadata": {},
   "outputs": [],
   "source": [
    "ds0 = fmri.loc[(fmri['subject'] == 's0') &\n",
    "                 (fmri['region']=='parietal')].sort_values(by='timepoint',ignore_index=True)\n",
    "dstim = fmri.loc[(fmri['subject'] == 's0') &\n",
    "                 (fmri['event'] == 'stim') &\n",
    "                 (fmri['region']=='parietal')].sort_values(by='timepoint',ignore_index=True)\n",
    "dcue = fmri.loc[(fmri['subject'] == 's0') &\n",
    "                 (fmri['event'] == 'cue') &\n",
    "                 (fmri['region']=='parietal')].sort_values(by='timepoint',ignore_index=True)\n",
    "dstim['event_diff'] = (dstim['signal'] - dcue['signal'])"
   ]
  },
  {
   "cell_type": "code",
   "execution_count": null,
   "id": "d96e13d4-12f3-4efc-853a-386f75d2584d",
   "metadata": {},
   "outputs": [],
   "source": [
    "fig,ax = plt.subplots(2,1)\n",
    "sns.lineplot(data=dstim, x='timepoint', y='signal', ax=ax[0])\n",
    "sns.lineplot(data=dstim, x='timepoint', y='event_diff', ax=ax[1])\n",
    "ax[1].set_ylabel('difference in stim vs cue')\n",
    "plt.show()"
   ]
  },
  {
   "cell_type": "code",
   "execution_count": null,
   "id": "9e6309de-91fa-488a-ae42-8bcf15a21b4c",
   "metadata": {},
   "outputs": [],
   "source": [
    "fig,ax = plt.subplots(2,1)\n",
    "sns.lineplot(data=ds0, x='timepoint', y='signal', hue='event', ax=ax[0])\n",
    "ax[1].fill_between(dstim['timepoint'],dstim['event_diff'])\n",
    "ax[1].set_ylabel('difference in stim vs cue')"
   ]
  },
  {
   "cell_type": "code",
   "execution_count": null,
   "id": "a77a2d93-c5af-4640-8956-b1c793d52574",
   "metadata": {},
   "outputs": [],
   "source": [
    "plt.plot(dstim['signal'], dstim['event_diff'])"
   ]
  },
  {
   "cell_type": "markdown",
   "id": "7a9280a1-fc3a-4354-8825-54b08fc690a7",
   "metadata": {},
   "source": [
    "To color this by time, we can build it up in pieces and assign the pieces different colors."
   ]
  },
  {
   "cell_type": "code",
   "execution_count": null,
   "id": "a16a715b-39da-4371-8eac-0a15f4a4c330",
   "metadata": {},
   "outputs": [],
   "source": [
    "import matplotlib.cm as cm"
   ]
  },
  {
   "cell_type": "code",
   "execution_count": null,
   "id": "5f720225-2810-430b-ae96-0edbaf136561",
   "metadata": {},
   "outputs": [],
   "source": [
    "cm.jet(2)"
   ]
  },
  {
   "cell_type": "code",
   "execution_count": null,
   "id": "de142ded-3ca8-44d9-8790-9915805360e1",
   "metadata": {},
   "outputs": [],
   "source": [
    "dstim['timepoint'].values"
   ]
  },
  {
   "cell_type": "code",
   "execution_count": null,
   "id": "5b8c65f9-f7f9-4c5d-b7e9-4bf3d000049b",
   "metadata": {},
   "outputs": [],
   "source": [
    "[cm.jet(i) for i in dstim['timepoint'].values]"
   ]
  },
  {
   "cell_type": "code",
   "execution_count": null,
   "id": "721a8c13-c71f-4c03-9f2c-4dfcb1f5140d",
   "metadata": {},
   "outputs": [],
   "source": [
    "for i in dstim['timepoint'].values[:-1]:\n",
    "    i0 = dstim.loc[dstim['timepoint'] == i]\n",
    "    i1 = dstim.loc[dstim['timepoint'] == i+1]\n",
    "    plt.scatter(i0['signal'], i0['event_diff'],color=cm.jet(i*10))\n",
    "    plt.plot([i0['signal'],i1['signal']], [i0['event_diff'],i1['event_diff']], color=cm.jet(i*10))"
   ]
  },
  {
   "cell_type": "markdown",
   "id": "5433a91a-9bb3-492e-ad5e-752560975f7b",
   "metadata": {},
   "source": [
    "# Multivariate Analysis with Seaborn\n",
    "## Using the Penguins Dataset\n",
    "\n",
    "\"Data were collected and made available by Dr. Kristen Gorman and the Palmer Station, Antarctica LTER, a member of the Long Term Ecological Research Network.\"\n",
    "-- https://github.com/allisonhorst/palmerpenguins"
   ]
  },
  {
   "cell_type": "code",
   "execution_count": null,
   "id": "5c1202e6-a536-4034-9d8a-2b6e20efd2fb",
   "metadata": {},
   "outputs": [],
   "source": [
    "penguins = sns.load_dataset(\"penguins\")"
   ]
  },
  {
   "cell_type": "code",
   "execution_count": null,
   "id": "4ef2b167-7287-453d-9fbe-976e951cc3a5",
   "metadata": {},
   "outputs": [],
   "source": [
    "penguins.info()"
   ]
  },
  {
   "cell_type": "code",
   "execution_count": null,
   "id": "3f94693e-d524-4873-bbfd-9737a467038e",
   "metadata": {},
   "outputs": [],
   "source": [
    "penguins"
   ]
  },
  {
   "cell_type": "markdown",
   "id": "05bfab55-fb0e-4b26-98f5-04a20d7b033e",
   "metadata": {},
   "source": [
    "### Histograms for numerical data, conditioned on categorical values"
   ]
  },
  {
   "cell_type": "code",
   "execution_count": null,
   "id": "ecb9b2ad-03f3-4192-8893-ed0224691851",
   "metadata": {},
   "outputs": [],
   "source": [
    "sns.histplot(data=penguins, \n",
    "             x=\"flipper_length_mm\")"
   ]
  },
  {
   "cell_type": "code",
   "execution_count": null,
   "id": "e35f47ea-38f7-4fe1-b6c9-aa2f089878c0",
   "metadata": {},
   "outputs": [],
   "source": [
    "sns.histplot(data=penguins, \n",
    "             x=\"flipper_length_mm\", \n",
    "             hue=\"species\")"
   ]
  },
  {
   "cell_type": "code",
   "execution_count": null,
   "id": "439c150f-fcda-444b-badb-a87a7933c9ec",
   "metadata": {},
   "outputs": [],
   "source": [
    "sns.histplot(data=penguins, \n",
    "             x=\"flipper_length_mm\", \n",
    "             hue=\"species\", \n",
    "             multiple=\"stack\")"
   ]
  },
  {
   "cell_type": "code",
   "execution_count": null,
   "id": "77fb420d-d26b-4405-bfe4-9e577f76f336",
   "metadata": {},
   "outputs": [],
   "source": [
    "sns.histplot(data=penguins, \n",
    "             x=\"flipper_length_mm\", \n",
    "             hue=\"species\", \n",
    "             multiple=\"fill\")"
   ]
  },
  {
   "cell_type": "code",
   "execution_count": null,
   "id": "c6e95b78-e872-4c88-a0d1-28ec281896eb",
   "metadata": {},
   "outputs": [],
   "source": [
    "sns.histplot(data=penguins, \n",
    "             x=\"flipper_length_mm\", \n",
    "             hue=\"species\", \n",
    "             multiple=\"dodge\")"
   ]
  },
  {
   "cell_type": "markdown",
   "id": "70a06189-d728-4777-b9e1-0b862bb7ad54",
   "metadata": {},
   "source": [
    "## FacetGrid\n",
    "\n",
    "The Seaborn FacetGrid \"class maps a dataset onto multiple axes arrayed in a grid of rows and columns that correspond to levels of variables in the dataset. The plots it produces are often called 'lattice', 'trellis', or 'small-multiple' graphics.\" -- https://seaborn.pydata.org/generated/seaborn.FacetGrid.html"
   ]
  },
  {
   "cell_type": "markdown",
   "id": "079a7d33-f7b4-4ad2-a159-1b088162b27a",
   "metadata": {},
   "source": [
    "If you want to use facet plots, I highly recommend reading the above page for more information."
   ]
  },
  {
   "cell_type": "code",
   "execution_count": null,
   "id": "6b2974fa-db7e-414d-9594-5cc4a97092da",
   "metadata": {},
   "outputs": [],
   "source": [
    "g = sns.FacetGrid(penguins, col=\"species\")\n",
    "g.map_dataframe(sns.histplot, x=\"flipper_length_mm\")"
   ]
  },
  {
   "cell_type": "markdown",
   "id": "1f8f5c78-1c7a-42fc-9011-49d48e1199c2",
   "metadata": {},
   "source": [
    "\"catplot\" is useful for drawing categorical plots onto a FacetGrid.  https://seaborn.pydata.org/generated/seaborn.catplot.html"
   ]
  },
  {
   "cell_type": "code",
   "execution_count": null,
   "id": "7a7f97e2-3d85-4982-bf49-a74ad27e9c4a",
   "metadata": {},
   "outputs": [],
   "source": [
    "sns.catplot(data=penguins,\n",
    "            x=\"flipper_length_mm\",\n",
    "            hue=\"species\",\n",
    "            col=\"species\")"
   ]
  },
  {
   "cell_type": "code",
   "execution_count": null,
   "id": "6f3729d1-9a83-4b9f-8bab-ff16e1af92a3",
   "metadata": {},
   "outputs": [],
   "source": [
    "sns.catplot(data=penguins,\n",
    "            x=\"flipper_length_mm\",\n",
    "            hue=\"species\",\n",
    "            col=\"species\",\n",
    "            kind='box')"
   ]
  },
  {
   "cell_type": "code",
   "execution_count": null,
   "id": "bce70265-087f-49de-9024-7bf3dfae965a",
   "metadata": {},
   "outputs": [],
   "source": [
    "sns.catplot(data=penguins,\n",
    "            x=\"flipper_length_mm\",\n",
    "            hue=\"species\",\n",
    "            row=\"species\",\n",
    "            kind='box', height=1, aspect=4)"
   ]
  },
  {
   "cell_type": "markdown",
   "id": "081a28c1-2337-4ab5-a36f-8c01018f3d43",
   "metadata": {},
   "source": [
    "\"displot\" is useful for drawing distribution plots onto a FacetGrid.  https://seaborn.pydata.org/generated/seaborn.displot.html"
   ]
  },
  {
   "cell_type": "code",
   "execution_count": null,
   "id": "e96b509d-0aa1-41ff-b9f5-3de4422b2582",
   "metadata": {},
   "outputs": [],
   "source": [
    "sns.displot(data=penguins,\n",
    "            x=\"flipper_length_mm\",\n",
    "            hue=\"species\",\n",
    "            col=\"species\")"
   ]
  },
  {
   "cell_type": "code",
   "execution_count": null,
   "id": "e5de9f46-db33-41e0-aa32-d19917e8ba06",
   "metadata": {},
   "outputs": [],
   "source": [
    "sns.displot(data=penguins,\n",
    "            x=\"flipper_length_mm\",\n",
    "            hue=\"species\",\n",
    "            col=\"species\", kind='kde')"
   ]
  },
  {
   "cell_type": "markdown",
   "id": "c64882de-4486-4a08-9d40-d4a2bb8f4d37",
   "metadata": {},
   "source": [
    "You can just use the kdeplot too."
   ]
  },
  {
   "cell_type": "code",
   "execution_count": null,
   "id": "aaa2d35e-741c-4eca-a448-0b11293ccb90",
   "metadata": {},
   "outputs": [],
   "source": [
    "sns.kdeplot(data=penguins, \n",
    "             x=\"flipper_length_mm\", \n",
    "             hue=\"species\")"
   ]
  },
  {
   "cell_type": "code",
   "execution_count": null,
   "id": "bed32209-30ff-4d74-ae81-8234c9824882",
   "metadata": {},
   "outputs": [],
   "source": [
    "sns.kdeplot(data=penguins, \n",
    "             x=\"flipper_length_mm\", \n",
    "             hue=\"species\", \n",
    "             multiple=\"stack\")"
   ]
  },
  {
   "cell_type": "code",
   "execution_count": null,
   "id": "7a69ddab-bcd1-4eb3-bd22-74ace55b2929",
   "metadata": {},
   "outputs": [],
   "source": [
    "sns.kdeplot(data=penguins, \n",
    "             x=\"flipper_length_mm\", \n",
    "             hue=\"species\", \n",
    "             multiple=\"fill\")"
   ]
  },
  {
   "cell_type": "code",
   "execution_count": null,
   "id": "8521e551-984a-4ef8-ad4c-9bf0a4e997e3",
   "metadata": {},
   "outputs": [],
   "source": [
    "sns.kdeplot(data=penguins, \n",
    "             x=\"flipper_length_mm\", \n",
    "             hue=\"species\", \n",
    "             multiple=\"layer\")"
   ]
  },
  {
   "cell_type": "code",
   "execution_count": null,
   "id": "86e87074-1143-4515-8df0-7f667f713e79",
   "metadata": {},
   "outputs": [],
   "source": [
    "g = sns.FacetGrid(penguins, col=\"species\")\n",
    "g.map_dataframe(sns.kdeplot, x=\"flipper_length_mm\")"
   ]
  },
  {
   "cell_type": "markdown",
   "id": "bfcd1f37-e063-4350-93c9-803b747d259f",
   "metadata": {},
   "source": [
    "## Pairplot\n",
    "\n",
    "Extremely useful for getting a snapshot all at once of the relations between pairs of variables.\n",
    "https://seaborn.pydata.org/generated/seaborn.pairplot.html"
   ]
  },
  {
   "cell_type": "code",
   "execution_count": null,
   "id": "3ed3db91-4053-49bb-9602-c16721947994",
   "metadata": {},
   "outputs": [],
   "source": [
    "sns.pairplot(data=penguins)"
   ]
  },
  {
   "cell_type": "code",
   "execution_count": null,
   "id": "1a852ff9-3ddf-4c49-bea8-462198805b0d",
   "metadata": {},
   "outputs": [],
   "source": [
    "sns.scatterplot(data=penguins, x='bill_length_mm', y='bill_depth_mm')"
   ]
  },
  {
   "cell_type": "code",
   "execution_count": null,
   "id": "5f571fe5-d10a-4205-81a9-7d7bab31c9e0",
   "metadata": {},
   "outputs": [],
   "source": [
    "sns.scatterplot(data=penguins, x='body_mass_g', y='flipper_length_mm')"
   ]
  },
  {
   "cell_type": "markdown",
   "id": "7c51d961-ad9e-4fd1-82bb-06f5cb62b9ad",
   "metadata": {},
   "source": [
    "## Regression\n",
    "\n",
    "\"lmplot\" and \"regplot\" are useful for looking at regression analysis.\n",
    "* \"regplot\" will plot data and a linear regression model fit.\n",
    "* \"lmplot\": regplot + FacetGrid.  Plot data and regression model fits across a FacetGrid."
   ]
  },
  {
   "cell_type": "code",
   "execution_count": null,
   "id": "7823e76d-e403-4ab8-993c-c2f48e8141b9",
   "metadata": {},
   "outputs": [],
   "source": [
    "sns.regplot(data=penguins, x='body_mass_g', y='flipper_length_mm')"
   ]
  },
  {
   "cell_type": "code",
   "execution_count": null,
   "id": "caec395d-8daf-449a-9152-07f6f2c86143",
   "metadata": {},
   "outputs": [],
   "source": [
    "sns.lmplot(data=penguins, x='body_mass_g', y='flipper_length_mm')"
   ]
  },
  {
   "cell_type": "code",
   "execution_count": null,
   "id": "00293a2c-2667-45fb-9ba2-1092e6751100",
   "metadata": {},
   "outputs": [],
   "source": [
    "# this will give an error! because it is lmplot that's designed for faceting.\n",
    "\n",
    "sns.regplot(data=penguins, x='body_mass_g', y='flipper_length_mm', hue='species')"
   ]
  },
  {
   "cell_type": "code",
   "execution_count": null,
   "id": "95394c7f-efe5-43b4-b668-c2cd6ead2c8c",
   "metadata": {},
   "outputs": [],
   "source": [
    "sns.lmplot(data=penguins, x='body_mass_g', y='flipper_length_mm', hue='species')"
   ]
  },
  {
   "cell_type": "code",
   "execution_count": null,
   "id": "e6e7bf30-aa68-442a-a30f-ae56f8b7af39",
   "metadata": {},
   "outputs": [],
   "source": [
    "sns.lmplot(data=penguins, x='body_mass_g', y='flipper_length_mm', col='species')"
   ]
  },
  {
   "cell_type": "code",
   "execution_count": null,
   "id": "b616cb9f-4ee9-4329-9f0d-e0a07dc0e0fb",
   "metadata": {},
   "outputs": [],
   "source": [
    "sns.lmplot(data=penguins, x='body_mass_g', y='flipper_length_mm', hue='species', col='sex')"
   ]
  },
  {
   "cell_type": "code",
   "execution_count": null,
   "id": "6de4454e-8c06-464b-a30c-7aad6a674900",
   "metadata": {},
   "outputs": [],
   "source": [
    "sns.lmplot(data=penguins, x='body_mass_g', y='flipper_length_mm', col='species', hue='sex')"
   ]
  },
  {
   "cell_type": "markdown",
   "id": "63d929e5-41ff-4b0d-8070-c8453182ee5b",
   "metadata": {},
   "source": [
    "### Residuals\n",
    "\n",
    "Plotting residuals (difference of data relative to the regression fit) allows us to see if there are missed patterns in the regression fit."
   ]
  },
  {
   "cell_type": "code",
   "execution_count": null,
   "id": "d8f82196-7998-432f-87cf-e2f1371ae136",
   "metadata": {},
   "outputs": [],
   "source": [
    "import numpy as np"
   ]
  },
  {
   "cell_type": "code",
   "execution_count": null,
   "id": "2cdd9f84-d893-42d4-a6b0-faf064746813",
   "metadata": {},
   "outputs": [],
   "source": [
    "# generate 100 points from a normal \n",
    "# distribution that has mean = 0 and std dev = 3.5\n",
    "np.random.seed(42)\n",
    "noise = np.random.normal(0,3.5,100)\n",
    "\n",
    "x = np.linspace(0,10,100)\n",
    "y = x**2 + noise"
   ]
  },
  {
   "cell_type": "code",
   "execution_count": null,
   "id": "376ad723-4433-43be-812e-545d0ca754bf",
   "metadata": {},
   "outputs": [],
   "source": [
    "sns.regplot(x=x,y=y)"
   ]
  },
  {
   "cell_type": "code",
   "execution_count": null,
   "id": "11851a88-c523-4518-9873-e4a1e33fdf16",
   "metadata": {},
   "outputs": [],
   "source": [
    "sns.residplot(x=x,y=y)"
   ]
  },
  {
   "cell_type": "code",
   "execution_count": null,
   "id": "18f142d9-1140-4ec7-b185-8532465512e0",
   "metadata": {},
   "outputs": [],
   "source": [
    "sns.regplot(x=x,y=y,order=2)"
   ]
  },
  {
   "cell_type": "code",
   "execution_count": null,
   "id": "593b2283-284c-47fd-ab6d-2ac2d07f8cc3",
   "metadata": {},
   "outputs": [],
   "source": [
    "sns.residplot(x=x,y=y,order=2)"
   ]
  },
  {
   "cell_type": "code",
   "execution_count": null,
   "id": "3360cdc4-f47f-4a94-8985-88ab1f185dd3",
   "metadata": {},
   "outputs": [],
   "source": [
    "sns.regplot(data=penguins, x='body_mass_g', y='flipper_length_mm')"
   ]
  },
  {
   "cell_type": "code",
   "execution_count": null,
   "id": "f932295f-0684-46ae-a86b-f67a721654f6",
   "metadata": {},
   "outputs": [],
   "source": [
    "sns.residplot(data=penguins, x='body_mass_g', y='flipper_length_mm')"
   ]
  },
  {
   "cell_type": "code",
   "execution_count": null,
   "id": "4abfe8c9-80d1-4095-a205-8caef4dfc317",
   "metadata": {},
   "outputs": [],
   "source": [
    "sns.jointplot(data=penguins, x='body_mass_g', y='flipper_length_mm')"
   ]
  },
  {
   "cell_type": "code",
   "execution_count": null,
   "id": "8f4ec062-8348-401d-b68b-af58cf04d84c",
   "metadata": {},
   "outputs": [],
   "source": [
    "sns.jointplot(data=penguins, x='body_mass_g', y='flipper_length_mm', kind='resid')"
   ]
  },
  {
   "cell_type": "code",
   "execution_count": null,
   "id": "8b0ab63c-66ca-4e30-830b-188685e39e40",
   "metadata": {},
   "outputs": [],
   "source": [
    "g = sns.FacetGrid(penguins, col=\"species\")\n",
    "g.map_dataframe(sns.residplot, x=\"flipper_length_mm\", y=\"bill_depth_mm\")"
   ]
  },
  {
   "cell_type": "code",
   "execution_count": null,
   "id": "cb658bc2-06aa-42ea-8c88-0916278ed0ee",
   "metadata": {},
   "outputs": [],
   "source": [
    "g = sns.FacetGrid(penguins, col=\"species\", hue='species')\n",
    "g.map_dataframe(sns.regplot, x=\"flipper_length_mm\", y=\"bill_depth_mm\")"
   ]
  },
  {
   "cell_type": "markdown",
   "id": "57b791b5",
   "metadata": {},
   "source": [
    "# Please help us evaluate these workshops:\n",
    "\n",
    "[Link to review](https://forms.gle/LTmgZ89K8J8Z8BdZ9)"
   ]
  }
 ],
 "metadata": {
  "kernelspec": {
   "display_name": "Python 3 (ipykernel)",
   "language": "python",
   "name": "python3"
  },
  "language_info": {
   "codemirror_mode": {
    "name": "ipython",
    "version": 3
   },
   "file_extension": ".py",
   "mimetype": "text/x-python",
   "name": "python",
   "nbconvert_exporter": "python",
   "pygments_lexer": "ipython3",
   "version": "3.11.7"
  },
  "toc": {
   "base_numbering": 1,
   "nav_menu": {},
   "number_sections": true,
   "sideBar": true,
   "skip_h1_title": false,
   "title_cell": "Table of Contents",
   "title_sidebar": "Contents",
   "toc_cell": false,
   "toc_position": {},
   "toc_section_display": true,
   "toc_window_display": false
  }
 },
 "nbformat": 4,
 "nbformat_minor": 5
}
